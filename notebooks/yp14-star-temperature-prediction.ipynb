{
 "cells": [
  {
   "cell_type": "markdown",
   "id": "12b03054",
   "metadata": {},
   "source": [
    "# Прогнозирование температуры звезды"
   ]
  },
  {
   "cell_type": "markdown",
   "id": "c9736a77",
   "metadata": {},
   "source": [
    "## Введение"
   ]
  },
  {
   "cell_type": "markdown",
   "id": "b15d8616",
   "metadata": {},
   "source": [
    "Закзачик — обсерватория «Небо на ладони» — хочет перейти на технологии машинного обучения для определения температуры поверхности звезд. \n",
    "\n",
    "Для поиска решения на основе нейронных сетей заказчик предоставил харасктеристики и значения температуры 240 звезд.\n",
    "\n",
    "Заказчик ожидает, что разработанная модель будет иметь RMSE не более 4500.\n",
    "\n",
    "Заказчик просит включит в отчет график «Факт — Прогноз», где по горизонтальной оси будут отложены условные номера звёзд, а по вертикальной — температура в Кельвинах."
   ]
  },
  {
   "cell_type": "markdown",
   "id": "856f1b63",
   "metadata": {},
   "source": [
    "### Цель проекта"
   ]
  },
  {
   "cell_type": "markdown",
   "id": "b43d4f19",
   "metadata": {},
   "source": [
    "Целью проекта является разработка архитектуры и обучение модели, предсказывающей температуру поверхности звезды. \n",
    "\n",
    "Качество модели оценивается метрикой среднеквадратичная ошибка (RMSE) и должно быть меньше или равно 4500."
   ]
  },
  {
   "cell_type": "markdown",
   "id": "768a0268",
   "metadata": {},
   "source": [
    "### Основные этапы"
   ]
  },
  {
   "cell_type": "markdown",
   "id": "001a5eb1",
   "metadata": {},
   "source": [
    "В проекты выполнены следующие основные этапы:\n",
    "- исследовательский анализ данных,\n",
    "- разработка базовой модели,\n",
    "- улучшение модели."
   ]
  },
  {
   "cell_type": "markdown",
   "id": "03c1dd7c",
   "metadata": {},
   "source": [
    "### Выводы"
   ]
  },
  {
   "cell_type": "markdown",
   "id": "eba4b044",
   "metadata": {},
   "source": [
    "Мы разработали модель, позволяющую определять температуру звезды по 5 характеристикам. Среднквадратичная ошибка предсказания на тестовых данных 2000.\n",
    "\n"
   ]
  },
  {
   "cell_type": "markdown",
   "id": "a24b911a",
   "metadata": {},
   "source": [
    "## Подготовка кода"
   ]
  },
  {
   "cell_type": "markdown",
   "id": "501e6906",
   "metadata": {},
   "source": [
    "### Загрузка библиотек"
   ]
  },
  {
   "cell_type": "markdown",
   "id": "8fbd978b",
   "metadata": {},
   "source": [
    "### Функции и классы"
   ]
  },
  {
   "cell_type": "markdown",
   "id": "cdbc37d3",
   "metadata": {},
   "source": [
    "## Загрузка данных"
   ]
  },
  {
   "cell_type": "markdown",
   "id": "0abc2803",
   "metadata": {},
   "source": [
    "## Исследовательский анализ данных"
   ]
  },
  {
   "cell_type": "markdown",
   "id": "c5fe6b81",
   "metadata": {},
   "source": [
    "## Подготовка данных"
   ]
  },
  {
   "cell_type": "markdown",
   "id": "8c6ff4f0",
   "metadata": {},
   "source": [
    "## Построение baseline модели"
   ]
  },
  {
   "cell_type": "markdown",
   "id": "cffdb310",
   "metadata": {},
   "source": [
    "## Улучшение модели"
   ]
  },
  {
   "cell_type": "markdown",
   "id": "acd7a46f",
   "metadata": {},
   "source": [
    "## Выводы"
   ]
  },
  {
   "cell_type": "markdown",
   "id": "d773b292",
   "metadata": {},
   "source": []
  }
 ],
 "metadata": {
  "kernelspec": {
   "display_name": "Python 3 (ipykernel)",
   "language": "python",
   "name": "python3"
  },
  "language_info": {
   "codemirror_mode": {
    "name": "ipython",
    "version": 3
   },
   "file_extension": ".py",
   "mimetype": "text/x-python",
   "name": "python",
   "nbconvert_exporter": "python",
   "pygments_lexer": "ipython3",
   "version": "3.9.7"
  },
  "toc": {
   "base_numbering": 1,
   "nav_menu": {},
   "number_sections": true,
   "sideBar": true,
   "skip_h1_title": true,
   "title_cell": "Table of Contents",
   "title_sidebar": "Contents",
   "toc_cell": false,
   "toc_position": {},
   "toc_section_display": true,
   "toc_window_display": true
  }
 },
 "nbformat": 4,
 "nbformat_minor": 5
}
