{
 "cells": [
  {
   "cell_type": "markdown",
   "id": "065ab278",
   "metadata": {},
   "source": [
    "# Прогнозирование температуры звезды"
   ]
  },
  {
   "cell_type": "markdown",
   "id": "6026611b",
   "metadata": {},
   "source": [
    "## Введение"
   ]
  },
  {
   "cell_type": "markdown",
   "id": "2c3a83a4",
   "metadata": {},
   "source": [
    "Закзачик — обсерватория «Небо на ладони» — хочет перейти на технологии машинного обучения для определения температуры поверхности звезд. \n",
    "\n",
    "Для поиска решения на основе нейронных сетей заказчик предоставил харасктеристики и значения температуры 240 звезд.\n",
    "\n",
    "Заказчик ожидает, что разработанная модель будет иметь RMSE не более 4500.\n",
    "\n",
    "Заказчик просит включит в отчет график «Факт — Прогноз», где по горизонтальной оси будут отложены условные номера звёзд, а по вертикальной — температура в Кельвинах."
   ]
  },
  {
   "cell_type": "markdown",
   "id": "e23db0bf",
   "metadata": {},
   "source": [
    "### Цель проекта"
   ]
  },
  {
   "cell_type": "markdown",
   "id": "6b9925ec",
   "metadata": {},
   "source": [
    "Целью проекта является разработка архитектуры и обучение модели, предсказывающей температуру поверхности звезды. \n",
    "\n",
    "Качество модели оценивается метрикой среднеквадратичная ошибка (RMSE) и должно быть меньше или равно 4500."
   ]
  },
  {
   "cell_type": "markdown",
   "id": "6042dd46",
   "metadata": {},
   "source": [
    "### Основные этапы"
   ]
  },
  {
   "cell_type": "markdown",
   "id": "6c5fdafc",
   "metadata": {},
   "source": [
    "В проекты выполнены следующие основные этапы:\n",
    "- исследовательский анализ данных,\n",
    "- разработка базовой модели,\n",
    "- улучшение модели."
   ]
  },
  {
   "cell_type": "markdown",
   "id": "bd6e35b3",
   "metadata": {},
   "source": [
    "### Выводы"
   ]
  },
  {
   "cell_type": "markdown",
   "id": "bfa2b825",
   "metadata": {},
   "source": [
    "Мы разработали модель, позволяющую определять температуру звезды по 5 характеристикам. Среднквадратичная ошибка предсказания на тестовых данных 2000.\n",
    "\n"
   ]
  },
  {
   "cell_type": "markdown",
   "id": "0fd3721c",
   "metadata": {},
   "source": [
    "## Подготовка кода"
   ]
  },
  {
   "cell_type": "markdown",
   "id": "b1177d48",
   "metadata": {},
   "source": [
    "### Загрузка библиотек"
   ]
  },
  {
   "cell_type": "markdown",
   "id": "63db624c",
   "metadata": {},
   "source": [
    "### Функции и классы"
   ]
  },
  {
   "cell_type": "markdown",
   "id": "11082a41",
   "metadata": {},
   "source": [
    "## Загрузка данных"
   ]
  },
  {
   "cell_type": "markdown",
   "id": "3b835447",
   "metadata": {},
   "source": [
    "## Исследовательский анализ данных"
   ]
  },
  {
   "cell_type": "markdown",
   "id": "ca5d4573",
   "metadata": {},
   "source": [
    "### Названия признаков"
   ]
  },
  {
   "cell_type": "markdown",
   "id": "9493248e",
   "metadata": {},
   "source": [
    "Приведем названия признаков к snake-case."
   ]
  },
  {
   "cell_type": "code",
   "execution_count": null,
   "id": "dafe5abf",
   "metadata": {},
   "outputs": [],
   "source": []
  },
  {
   "cell_type": "markdown",
   "id": "e981f163",
   "metadata": {},
   "source": [
    "### Структура данных"
   ]
  },
  {
   "cell_type": "markdown",
   "id": "359a000e",
   "metadata": {},
   "source": [
    "#### Распределение признаков по типам данных"
   ]
  },
  {
   "cell_type": "code",
   "execution_count": null,
   "id": "caccf547",
   "metadata": {},
   "outputs": [],
   "source": []
  },
  {
   "cell_type": "markdown",
   "id": "c4f438bc",
   "metadata": {},
   "source": [
    "#### Количество уникальных значений"
   ]
  },
  {
   "cell_type": "code",
   "execution_count": null,
   "id": "4d5b75ae",
   "metadata": {},
   "outputs": [],
   "source": []
  },
  {
   "cell_type": "markdown",
   "id": "da20c8e6",
   "metadata": {},
   "source": [
    "#### Статистики числовых признаков"
   ]
  },
  {
   "cell_type": "code",
   "execution_count": null,
   "id": "89e8e6c8",
   "metadata": {},
   "outputs": [],
   "source": []
  },
  {
   "cell_type": "markdown",
   "id": "5286394e",
   "metadata": {},
   "source": [
    "#### Вывод\n",
    "\n"
   ]
  },
  {
   "cell_type": "code",
   "execution_count": null,
   "id": "82a4950c",
   "metadata": {},
   "outputs": [],
   "source": []
  },
  {
   "cell_type": "markdown",
   "id": "51c54ca0",
   "metadata": {},
   "source": [
    "### Качество данных"
   ]
  },
  {
   "cell_type": "markdown",
   "id": "52494bbb",
   "metadata": {},
   "source": [
    "#### Дубликаты"
   ]
  },
  {
   "cell_type": "code",
   "execution_count": null,
   "id": "7e585b27",
   "metadata": {},
   "outputs": [],
   "source": []
  },
  {
   "cell_type": "markdown",
   "id": "bafb1ccd",
   "metadata": {},
   "source": [
    "#### Пропуски"
   ]
  },
  {
   "cell_type": "code",
   "execution_count": null,
   "id": "5422ca95",
   "metadata": {},
   "outputs": [],
   "source": []
  },
  {
   "cell_type": "markdown",
   "id": "73bee9c7",
   "metadata": {},
   "source": [
    "#### Паттерны и ошибки заполнения"
   ]
  },
  {
   "cell_type": "code",
   "execution_count": null,
   "id": "674e77e9",
   "metadata": {},
   "outputs": [],
   "source": []
  },
  {
   "cell_type": "markdown",
   "id": "09ae39bd",
   "metadata": {},
   "source": [
    "#### Выводы"
   ]
  },
  {
   "cell_type": "code",
   "execution_count": null,
   "id": "c0c5456b",
   "metadata": {},
   "outputs": [],
   "source": []
  },
  {
   "cell_type": "markdown",
   "id": "5acedecb",
   "metadata": {},
   "source": [
    "### Содержание данных"
   ]
  },
  {
   "cell_type": "markdown",
   "id": "1168b340",
   "metadata": {},
   "source": [
    "#### Распределение значений"
   ]
  },
  {
   "cell_type": "code",
   "execution_count": null,
   "id": "68a9b3df",
   "metadata": {},
   "outputs": [],
   "source": []
  },
  {
   "cell_type": "markdown",
   "id": "2f7eaf3f",
   "metadata": {},
   "source": [
    "#### Взаимосвязь численных признаков"
   ]
  },
  {
   "cell_type": "code",
   "execution_count": null,
   "id": "d6ea34b4",
   "metadata": {},
   "outputs": [],
   "source": []
  },
  {
   "cell_type": "markdown",
   "id": "41893af4",
   "metadata": {},
   "source": [
    "#### Анализ мультиколинеарности"
   ]
  },
  {
   "cell_type": "markdown",
   "id": "4f7235e5",
   "metadata": {},
   "source": [
    "- https://www.geeksforgeeks.org/detecting-multicollinearity-with-vif-python/\n",
    "- https://etav.github.io/python/vif_factor_python.html\n",
    "- https://towardsdatascience.com/how-to-remove-multicollinearity-in-dataset-using-pca-4b4561c28d0b"
   ]
  },
  {
   "cell_type": "code",
   "execution_count": null,
   "id": "01c78a01",
   "metadata": {},
   "outputs": [],
   "source": []
  },
  {
   "cell_type": "markdown",
   "id": "5e023ac7",
   "metadata": {},
   "source": [
    "### Выводы"
   ]
  },
  {
   "cell_type": "markdown",
   "id": "494ae051",
   "metadata": {},
   "source": []
  },
  {
   "cell_type": "markdown",
   "id": "7dbf049f",
   "metadata": {},
   "source": [
    "## Подготовка данных"
   ]
  },
  {
   "cell_type": "markdown",
   "id": "69a4fc72",
   "metadata": {},
   "source": [
    "## Построение baseline модели"
   ]
  },
  {
   "cell_type": "markdown",
   "id": "2e693bfa",
   "metadata": {},
   "source": [
    "## Улучшение модели"
   ]
  },
  {
   "cell_type": "markdown",
   "id": "24894391",
   "metadata": {},
   "source": [
    "## Выводы"
   ]
  },
  {
   "cell_type": "markdown",
   "id": "73e838d3",
   "metadata": {},
   "source": []
  }
 ],
 "metadata": {
  "kernelspec": {
   "display_name": "Python 3 (ipykernel)",
   "language": "python",
   "name": "python3"
  },
  "language_info": {
   "codemirror_mode": {
    "name": "ipython",
    "version": 3
   },
   "file_extension": ".py",
   "mimetype": "text/x-python",
   "name": "python",
   "nbconvert_exporter": "python",
   "pygments_lexer": "ipython3",
   "version": "3.9.7"
  },
  "toc": {
   "base_numbering": 1,
   "nav_menu": {},
   "number_sections": true,
   "sideBar": true,
   "skip_h1_title": true,
   "title_cell": "Table of Contents",
   "title_sidebar": "Contents",
   "toc_cell": false,
   "toc_position": {},
   "toc_section_display": true,
   "toc_window_display": true
  }
 },
 "nbformat": 4,
 "nbformat_minor": 5
}
