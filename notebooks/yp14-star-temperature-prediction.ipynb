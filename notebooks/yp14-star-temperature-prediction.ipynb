{
 "cells": [
  {
   "cell_type": "markdown",
   "id": "ebd95cbd",
   "metadata": {},
   "source": [
    "# Прогнозирование температуры звезды"
   ]
  },
  {
   "cell_type": "markdown",
   "id": "f970a102",
   "metadata": {},
   "source": [
    "## Введение"
   ]
  },
  {
   "cell_type": "markdown",
   "id": "7868e7e0",
   "metadata": {},
   "source": [
    "Закзачик — обсерватория «Небо на ладони» — хочет перейти на технологии машинного обучения для определения температуры поверхности звезд. \n",
    "\n",
    "Для поиска решения на основе нейронных сетей заказчик предоставил харасктеристики и значения температуры 240 звезд. Характеристики данных следующие:\n",
    "1. Относительная светимость $L/L_o$ — светимость звезды относительно Солнца.\n",
    "1. Относительный радиус $R/R_o$ — радиус звезды относительно радиуса Солнца.\n",
    "1. Абсолютная звёздная величина $M_v$ — физическая величина, характеризующая блеск звезды.\n",
    "1. Звёздный цвет (white, red, blue, yellow, yellow-orange и др.) — цвет звезды, который определяют на основе спектрального анализа.\n",
    "1. Тип звезды:\n",
    "    - 0 — Коричневый карлик\n",
    "    - 1 — Красный карлик\n",
    "    - 2 — Белый карлик\n",
    "    - 3 — Звёзды главной последовательности\n",
    "    - 4 — Сверхгигант\n",
    "    - 5 — Гипергигант\n",
    "1. Абсолютная температура $T(K)$ — температура на поверхности звезды в Кельвинах. \n",
    "\n",
    "Заказчик ожидает, что разработанная модель будет иметь RMSE не более 4500.\n",
    "\n",
    "Заказчик просит включит в отчет график «Факт — Прогноз», где по горизонтальной оси будут отложены условные номера звёзд, а по вертикальной — температура в Кельвинах."
   ]
  },
  {
   "cell_type": "markdown",
   "id": "9c671214",
   "metadata": {},
   "source": [
    "### Цель проекта"
   ]
  },
  {
   "cell_type": "markdown",
   "id": "f87704d9",
   "metadata": {},
   "source": [
    "Целью проекта является разработка архитектуры и обучение модели, предсказывающей температуру поверхности звезды. \n",
    "\n",
    "Качество модели оценивается метрикой среднеквадратичная ошибка (RMSE) и должно быть меньше или равно 4500."
   ]
  },
  {
   "cell_type": "markdown",
   "id": "6219819b",
   "metadata": {},
   "source": [
    "### Основные этапы"
   ]
  },
  {
   "cell_type": "markdown",
   "id": "fe559c0c",
   "metadata": {},
   "source": [
    "В проекты выполнены следующие основные этапы:\n",
    "- исследовательский анализ данных,\n",
    "- разработка базовой модели,\n",
    "- улучшение модели."
   ]
  },
  {
   "cell_type": "markdown",
   "id": "b62d3f9c",
   "metadata": {},
   "source": [
    "### Выводы"
   ]
  },
  {
   "cell_type": "markdown",
   "id": "79ca5d56",
   "metadata": {},
   "source": [
    "Мы разработали модель, позволяющую определять температуру звезды по 5 характеристикам. Среднквадратичная ошибка предсказания на тестовых данных 2000.\n",
    "\n"
   ]
  },
  {
   "cell_type": "markdown",
   "id": "627f81cd",
   "metadata": {},
   "source": [
    "## Подготовка кода"
   ]
  },
  {
   "cell_type": "markdown",
   "id": "b29d07ae",
   "metadata": {},
   "source": [
    "### Загрузка библиотек"
   ]
  },
  {
   "cell_type": "code",
   "execution_count": 1,
   "id": "72a46eb2",
   "metadata": {},
   "outputs": [],
   "source": [
    "from os import path\n",
    "import pandas as pd"
   ]
  },
  {
   "cell_type": "code",
   "execution_count": 29,
   "id": "ad286d74",
   "metadata": {},
   "outputs": [],
   "source": [
    "from matplotlib import pyplot as plt\n",
    "%matplotlib inline\n",
    "%config InlineBackend.figure_format='retina'"
   ]
  },
  {
   "cell_type": "code",
   "execution_count": 8,
   "id": "549292e0",
   "metadata": {},
   "outputs": [],
   "source": [
    "from sklearn.model_selection import train_test_split"
   ]
  },
  {
   "cell_type": "code",
   "execution_count": 9,
   "id": "a2653154",
   "metadata": {},
   "outputs": [],
   "source": [
    "RANDOM_STATE = 2575215"
   ]
  },
  {
   "cell_type": "code",
   "execution_count": null,
   "id": "a98d9b19",
   "metadata": {},
   "outputs": [],
   "source": []
  },
  {
   "cell_type": "markdown",
   "id": "10708898",
   "metadata": {},
   "source": [
    "### Функции и классы"
   ]
  },
  {
   "cell_type": "markdown",
   "id": "3ca4e7d9",
   "metadata": {},
   "source": [
    "## Загрузка данных"
   ]
  },
  {
   "cell_type": "code",
   "execution_count": 3,
   "id": "c7ac3d01",
   "metadata": {},
   "outputs": [
    {
     "data": {
      "text/plain": [
       "(240, 6)"
      ]
     },
     "execution_count": 3,
     "metadata": {},
     "output_type": "execute_result"
    }
   ],
   "source": [
    "remote_path = 'https://code.s3.yandex.net/datasets/6_class.csv'\n",
    "local_path = path.join('.', 'data', '6_class.csv')\n",
    "\n",
    "if path.isfile(local_path):\n",
    "    data = pd.read_csv(local_path, index_col=0)\n",
    "else:\n",
    "    data = pd.read_csv(remote_path, index_col=0)\n",
    "    if path.exists(path.dirname(local_path)):\n",
    "        data.to_csv(local_path)\n",
    "        \n",
    "data.shape"
   ]
  },
  {
   "cell_type": "markdown",
   "id": "2821a2a2",
   "metadata": {},
   "source": [
    "Загружено 240 строк данных и 6 признаков."
   ]
  },
  {
   "cell_type": "code",
   "execution_count": 4,
   "id": "9f3db83f",
   "metadata": {},
   "outputs": [
    {
     "name": "stdout",
     "output_type": "stream",
     "text": [
      "<class 'pandas.core.frame.DataFrame'>\n",
      "Int64Index: 240 entries, 0 to 239\n",
      "Data columns (total 6 columns):\n",
      " #   Column                  Non-Null Count  Dtype  \n",
      "---  ------                  --------------  -----  \n",
      " 0   Temperature (K)         240 non-null    int64  \n",
      " 1   Luminosity(L/Lo)        240 non-null    float64\n",
      " 2   Radius(R/Ro)            240 non-null    float64\n",
      " 3   Absolute magnitude(Mv)  240 non-null    float64\n",
      " 4   Star type               240 non-null    int64  \n",
      " 5   Star color              240 non-null    object \n",
      "dtypes: float64(3), int64(2), object(1)\n",
      "memory usage: 13.1+ KB\n"
     ]
    }
   ],
   "source": [
    "data.info()"
   ]
  },
  {
   "cell_type": "code",
   "execution_count": 7,
   "id": "2d4d3537",
   "metadata": {},
   "outputs": [
    {
     "data": {
      "text/html": [
       "<div>\n",
       "<style scoped>\n",
       "    .dataframe tbody tr th:only-of-type {\n",
       "        vertical-align: middle;\n",
       "    }\n",
       "\n",
       "    .dataframe tbody tr th {\n",
       "        vertical-align: top;\n",
       "    }\n",
       "\n",
       "    .dataframe thead th {\n",
       "        text-align: right;\n",
       "    }\n",
       "</style>\n",
       "<table border=\"1\" class=\"dataframe\">\n",
       "  <thead>\n",
       "    <tr style=\"text-align: right;\">\n",
       "      <th></th>\n",
       "      <th>temperature</th>\n",
       "      <th>luminosity</th>\n",
       "      <th>radius</th>\n",
       "      <th>absolute_magnitude</th>\n",
       "      <th>star_type</th>\n",
       "      <th>star_color</th>\n",
       "    </tr>\n",
       "  </thead>\n",
       "  <tbody>\n",
       "    <tr>\n",
       "      <th>0</th>\n",
       "      <td>3068</td>\n",
       "      <td>0.002400</td>\n",
       "      <td>0.1700</td>\n",
       "      <td>16.12</td>\n",
       "      <td>0</td>\n",
       "      <td>Red</td>\n",
       "    </tr>\n",
       "    <tr>\n",
       "      <th>1</th>\n",
       "      <td>3042</td>\n",
       "      <td>0.000500</td>\n",
       "      <td>0.1542</td>\n",
       "      <td>16.60</td>\n",
       "      <td>0</td>\n",
       "      <td>Red</td>\n",
       "    </tr>\n",
       "    <tr>\n",
       "      <th>2</th>\n",
       "      <td>2600</td>\n",
       "      <td>0.000300</td>\n",
       "      <td>0.1020</td>\n",
       "      <td>18.70</td>\n",
       "      <td>0</td>\n",
       "      <td>Red</td>\n",
       "    </tr>\n",
       "    <tr>\n",
       "      <th>3</th>\n",
       "      <td>2800</td>\n",
       "      <td>0.000200</td>\n",
       "      <td>0.1600</td>\n",
       "      <td>16.65</td>\n",
       "      <td>0</td>\n",
       "      <td>Red</td>\n",
       "    </tr>\n",
       "    <tr>\n",
       "      <th>4</th>\n",
       "      <td>1939</td>\n",
       "      <td>0.000138</td>\n",
       "      <td>0.1030</td>\n",
       "      <td>20.06</td>\n",
       "      <td>0</td>\n",
       "      <td>Red</td>\n",
       "    </tr>\n",
       "  </tbody>\n",
       "</table>\n",
       "</div>"
      ],
      "text/plain": [
       "   temperature  luminosity  radius  absolute_magnitude  star_type star_color\n",
       "0         3068    0.002400  0.1700               16.12          0        Red\n",
       "1         3042    0.000500  0.1542               16.60          0        Red\n",
       "2         2600    0.000300  0.1020               18.70          0        Red\n",
       "3         2800    0.000200  0.1600               16.65          0        Red\n",
       "4         1939    0.000138  0.1030               20.06          0        Red"
      ]
     },
     "execution_count": 7,
     "metadata": {},
     "output_type": "execute_result"
    }
   ],
   "source": [
    "data.head()"
   ]
  },
  {
   "cell_type": "markdown",
   "id": "74794e0c",
   "metadata": {},
   "source": [
    "Состав признаков и их значения соответствуют информации в задаче. \n",
    "\n",
    "Приведем названия признаков к snake-case."
   ]
  },
  {
   "cell_type": "code",
   "execution_count": 6,
   "id": "f3f031eb",
   "metadata": {},
   "outputs": [],
   "source": [
    "data.columns = [\n",
    "    'temperature', 'luminosity', 'radius', 'absolute_magnitude', 'star_type',\n",
    "    'star_color'\n",
    "]"
   ]
  },
  {
   "cell_type": "markdown",
   "id": "adeccfb0",
   "metadata": {},
   "source": [
    "### Разделение данных"
   ]
  },
  {
   "cell_type": "markdown",
   "id": "c977736c",
   "metadata": {},
   "source": [
    "Будем придреживаться принципа, согласно которому мы не должны видеть тестовые данные до этапа тестирования моделей. Поэтому выделим данные для теста до исследовательского анализа. Для теста оставим 10% даных."
   ]
  },
  {
   "cell_type": "code",
   "execution_count": 15,
   "id": "044e54ea",
   "metadata": {},
   "outputs": [],
   "source": [
    "X = data.drop('temperature', axis=1)\n",
    "y = data.temperature\n",
    "X_train, X_test, y_train, y_test = train_test_split(X,\n",
    "                                                    y,\n",
    "                                                    test_size=.15,\n",
    "                                                    random_state=RANDOM_STATE)"
   ]
  },
  {
   "cell_type": "code",
   "execution_count": 16,
   "id": "3747a6f0",
   "metadata": {},
   "outputs": [
    {
     "data": {
      "text/plain": [
       "((204, 5), (204,))"
      ]
     },
     "execution_count": 16,
     "metadata": {},
     "output_type": "execute_result"
    }
   ],
   "source": [
    "X_train.shape, y_train.shape"
   ]
  },
  {
   "cell_type": "code",
   "execution_count": 17,
   "id": "a9b82199",
   "metadata": {},
   "outputs": [
    {
     "data": {
      "text/plain": [
       "((36, 5), (36,))"
      ]
     },
     "execution_count": 17,
     "metadata": {},
     "output_type": "execute_result"
    }
   ],
   "source": [
    "X_test.shape, y_test.shape"
   ]
  },
  {
   "cell_type": "markdown",
   "id": "0cd3a07a",
   "metadata": {},
   "source": [
    "Размер выборок корректный.\n",
    "\n",
    "Сравним статистики целевого признака для обучающей и тестовой выборок."
   ]
  },
  {
   "cell_type": "code",
   "execution_count": 18,
   "id": "4a0af9d3",
   "metadata": {},
   "outputs": [
    {
     "data": {
      "text/plain": [
       "count      204.000000\n",
       "mean     10504.230392\n",
       "std       9581.423090\n",
       "min       1939.000000\n",
       "25%       3344.250000\n",
       "50%       5776.000000\n",
       "75%      15554.500000\n",
       "max      40000.000000\n",
       "Name: temperature, dtype: float64"
      ]
     },
     "execution_count": 18,
     "metadata": {},
     "output_type": "execute_result"
    }
   ],
   "source": [
    "y_train.describe()"
   ]
  },
  {
   "cell_type": "code",
   "execution_count": 19,
   "id": "80172bfb",
   "metadata": {},
   "outputs": [
    {
     "data": {
      "text/plain": [
       "count       36.000000\n",
       "mean     10459.111111\n",
       "std       9520.297072\n",
       "min       2731.000000\n",
       "25%       3353.750000\n",
       "50%       5981.000000\n",
       "75%      14106.250000\n",
       "max      38234.000000\n",
       "Name: temperature, dtype: float64"
      ]
     },
     "execution_count": 19,
     "metadata": {},
     "output_type": "execute_result"
    }
   ],
   "source": [
    "y_test.describe()"
   ]
  },
  {
   "cell_type": "markdown",
   "id": "2daf1351",
   "metadata": {},
   "source": [
    "Статистики целевого признака на обучающей и тестовой выборке похожи. Разделение данных выполнено корректно."
   ]
  },
  {
   "cell_type": "markdown",
   "id": "f12c1762",
   "metadata": {},
   "source": [
    "### Вывод"
   ]
  },
  {
   "cell_type": "markdown",
   "id": "f6f1d7ff",
   "metadata": {},
   "source": [
    "Мы загрузили полученные данные. Состав признаков и количество объектов соответствуют указанным в задаче. \n",
    "\n",
    "Из данных мы выделили 15% объектов для тестирования результатов. \n",
    "\n",
    "Исследовательский анализ, обучение и настройку моделей будем проводить на обучающей выборки, из которой выделим валидационную."
   ]
  },
  {
   "cell_type": "markdown",
   "id": "a097f44f",
   "metadata": {},
   "source": [
    "## Исследовательский анализ данных"
   ]
  },
  {
   "cell_type": "markdown",
   "id": "fad794c6",
   "metadata": {},
   "source": [
    "Сделаем датасет для анализа на основе обучающей выборки."
   ]
  },
  {
   "cell_type": "code",
   "execution_count": 20,
   "id": "77ed03fa",
   "metadata": {},
   "outputs": [],
   "source": [
    "df = X_train.join(y_train).copy()"
   ]
  },
  {
   "cell_type": "markdown",
   "id": "360be094",
   "metadata": {},
   "source": [
    "### Структура данных"
   ]
  },
  {
   "cell_type": "markdown",
   "id": "740b2d45",
   "metadata": {},
   "source": [
    "В нашем датасете 240 объектов, 5 призаков и один целевой признак."
   ]
  },
  {
   "cell_type": "markdown",
   "id": "96ba4277",
   "metadata": {},
   "source": [
    "#### Типы данных признаков"
   ]
  },
  {
   "cell_type": "code",
   "execution_count": 22,
   "id": "47fc18ec",
   "metadata": {},
   "outputs": [
    {
     "data": {
      "text/plain": [
       "luminosity            float64\n",
       "radius                float64\n",
       "absolute_magnitude    float64\n",
       "star_type               int64\n",
       "star_color             object\n",
       "temperature             int64\n",
       "dtype: object"
      ]
     },
     "execution_count": 22,
     "metadata": {},
     "output_type": "execute_result"
    }
   ],
   "source": [
    "df.dtypes"
   ]
  },
  {
   "cell_type": "markdown",
   "id": "944a7bd9",
   "metadata": {},
   "source": [
    "Целевой признак целочисленный, 3 признака имеют вещественный тип, один — целый и один — строковый. Целым и строковым типами представлены категориальные признаки."
   ]
  },
  {
   "cell_type": "markdown",
   "id": "bfbeeb16",
   "metadata": {},
   "source": [
    "Выделим названия целевого, численных и категориальных признаков."
   ]
  },
  {
   "cell_type": "code",
   "execution_count": 24,
   "id": "e1a038ce",
   "metadata": {},
   "outputs": [],
   "source": [
    "target_column = [\"temperature\"]\n",
    "numerical_columns = [\"luminosity\", \"radius\", \"absolute_magnitude\"]\n",
    "categorical_columns = [\"star_type\", \"star_color\"]"
   ]
  },
  {
   "cell_type": "markdown",
   "id": "50aaa423",
   "metadata": {},
   "source": [
    "#### Количество уникальных значений"
   ]
  },
  {
   "cell_type": "code",
   "execution_count": 23,
   "id": "7804e2cc",
   "metadata": {},
   "outputs": [
    {
     "data": {
      "text/plain": [
       "luminosity            180\n",
       "radius                188\n",
       "absolute_magnitude    194\n",
       "star_type               6\n",
       "star_color             18\n",
       "temperature           194\n",
       "dtype: int64"
      ]
     },
     "execution_count": 23,
     "metadata": {},
     "output_type": "execute_result"
    }
   ],
   "source": [
    "df.nunique()"
   ]
  },
  {
   "cell_type": "markdown",
   "id": "26f41886",
   "metadata": {},
   "source": [
    "Все числовые признаки имеют сотни значений, то есть являются непрерывными."
   ]
  },
  {
   "cell_type": "markdown",
   "id": "e5bd5a5e",
   "metadata": {},
   "source": [
    "#### Статистики числовых признаков"
   ]
  },
  {
   "cell_type": "code",
   "execution_count": 26,
   "id": "82d08192",
   "metadata": {},
   "outputs": [
    {
     "data": {
      "text/html": [
       "<div>\n",
       "<style scoped>\n",
       "    .dataframe tbody tr th:only-of-type {\n",
       "        vertical-align: middle;\n",
       "    }\n",
       "\n",
       "    .dataframe tbody tr th {\n",
       "        vertical-align: top;\n",
       "    }\n",
       "\n",
       "    .dataframe thead th {\n",
       "        text-align: right;\n",
       "    }\n",
       "</style>\n",
       "<table border=\"1\" class=\"dataframe\">\n",
       "  <thead>\n",
       "    <tr style=\"text-align: right;\">\n",
       "      <th></th>\n",
       "      <th>luminosity</th>\n",
       "      <th>radius</th>\n",
       "      <th>absolute_magnitude</th>\n",
       "      <th>temperature</th>\n",
       "    </tr>\n",
       "  </thead>\n",
       "  <tbody>\n",
       "    <tr>\n",
       "      <th>count</th>\n",
       "      <td>204.000000</td>\n",
       "      <td>204.000000</td>\n",
       "      <td>204.000000</td>\n",
       "      <td>204.000000</td>\n",
       "    </tr>\n",
       "    <tr>\n",
       "      <th>mean</th>\n",
       "      <td>101994.531578</td>\n",
       "      <td>198.838847</td>\n",
       "      <td>4.707059</td>\n",
       "      <td>10504.230392</td>\n",
       "    </tr>\n",
       "    <tr>\n",
       "      <th>std</th>\n",
       "      <td>176958.624939</td>\n",
       "      <td>472.874682</td>\n",
       "      <td>10.408561</td>\n",
       "      <td>9581.423090</td>\n",
       "    </tr>\n",
       "    <tr>\n",
       "      <th>min</th>\n",
       "      <td>0.000080</td>\n",
       "      <td>0.008400</td>\n",
       "      <td>-11.920000</td>\n",
       "      <td>1939.000000</td>\n",
       "    </tr>\n",
       "    <tr>\n",
       "      <th>25%</th>\n",
       "      <td>0.000817</td>\n",
       "      <td>0.099525</td>\n",
       "      <td>-6.092500</td>\n",
       "      <td>3344.250000</td>\n",
       "    </tr>\n",
       "    <tr>\n",
       "      <th>50%</th>\n",
       "      <td>0.021500</td>\n",
       "      <td>0.590000</td>\n",
       "      <td>10.410000</td>\n",
       "      <td>5776.000000</td>\n",
       "    </tr>\n",
       "    <tr>\n",
       "      <th>75%</th>\n",
       "      <td>189750.000000</td>\n",
       "      <td>35.250000</td>\n",
       "      <td>13.697500</td>\n",
       "      <td>15554.500000</td>\n",
       "    </tr>\n",
       "    <tr>\n",
       "      <th>max</th>\n",
       "      <td>849420.000000</td>\n",
       "      <td>1948.500000</td>\n",
       "      <td>20.060000</td>\n",
       "      <td>40000.000000</td>\n",
       "    </tr>\n",
       "  </tbody>\n",
       "</table>\n",
       "</div>"
      ],
      "text/plain": [
       "          luminosity       radius  absolute_magnitude   temperature\n",
       "count     204.000000   204.000000          204.000000    204.000000\n",
       "mean   101994.531578   198.838847            4.707059  10504.230392\n",
       "std    176958.624939   472.874682           10.408561   9581.423090\n",
       "min         0.000080     0.008400          -11.920000   1939.000000\n",
       "25%         0.000817     0.099525           -6.092500   3344.250000\n",
       "50%         0.021500     0.590000           10.410000   5776.000000\n",
       "75%    189750.000000    35.250000           13.697500  15554.500000\n",
       "max    849420.000000  1948.500000           20.060000  40000.000000"
      ]
     },
     "execution_count": 26,
     "metadata": {},
     "output_type": "execute_result"
    }
   ],
   "source": [
    "df[numerical_columns + target_column].describe()"
   ]
  },
  {
   "cell_type": "markdown",
   "id": "84c871d8",
   "metadata": {},
   "source": [
    "Минимальное значение `luminosity` 0.00008, максимальное — 849420. Разница в 11 порядков. Медиана 0.02, среднее — 101994. \n",
    "\n",
    "У остальных признаков также видим большую разницу между максимумом и минимумом и смещение медианы от среднего. \n",
    "\n",
    "В нашем датасете очень разные звезды."
   ]
  },
  {
   "cell_type": "markdown",
   "id": "5a5df8d0",
   "metadata": {},
   "source": [
    "#### Вывод\n",
    "\n"
   ]
  },
  {
   "cell_type": "markdown",
   "id": "691f57cf",
   "metadata": {},
   "source": [
    "Мы изучили структуру данных. Убедились, что данные соответсвуют описанным в задаче. \n",
    "\n",
    "Мы видим, что звезды в датасете очень сильно отличаются друг от друга по характеристам и распределение значений скошено."
   ]
  },
  {
   "cell_type": "markdown",
   "id": "6c22e122",
   "metadata": {},
   "source": [
    "### Качество данных"
   ]
  },
  {
   "cell_type": "markdown",
   "id": "bce2dc98",
   "metadata": {},
   "source": [
    "#### Дубликаты"
   ]
  },
  {
   "cell_type": "code",
   "execution_count": 27,
   "id": "b9691857",
   "metadata": {},
   "outputs": [
    {
     "name": "stdout",
     "output_type": "stream",
     "text": [
      "Нашли 0 дубликатов в датасете.\n"
     ]
    }
   ],
   "source": [
    "duplicates_number = df.duplicated().sum()\n",
    "print(f'Нашли {duplicates_number} дубликатов в датасете.')"
   ]
  },
  {
   "cell_type": "markdown",
   "id": "59cbe911",
   "metadata": {},
   "source": [
    "#### Пропуски"
   ]
  },
  {
   "cell_type": "code",
   "execution_count": 28,
   "id": "71a40721",
   "metadata": {},
   "outputs": [
    {
     "data": {
      "text/plain": [
       "luminosity            0\n",
       "radius                0\n",
       "absolute_magnitude    0\n",
       "star_type             0\n",
       "star_color            0\n",
       "temperature           0\n",
       "dtype: int64"
      ]
     },
     "execution_count": 28,
     "metadata": {},
     "output_type": "execute_result"
    }
   ],
   "source": [
    "df.isna().sum()"
   ]
  },
  {
   "cell_type": "markdown",
   "id": "44810e88",
   "metadata": {},
   "source": [
    "Пропусков тоже нет."
   ]
  },
  {
   "cell_type": "markdown",
   "id": "e2651e2c",
   "metadata": {},
   "source": [
    "#### Паттерны и ошибки заполнения"
   ]
  },
  {
   "cell_type": "markdown",
   "id": "d5ed760d",
   "metadata": {},
   "source": [
    "Проверим наш датасет на проблемы с заполнением числовых значений.\n",
    "\n",
    "Для каждого числового признака построим график, который визуализирует значения признака (ось Y) для каждого из объектов в датасете (ось X).\n",
    "\n",
    "Мы ожидаем, что распределение значений будет охватывать весь диапазон по оси Y для всех объектов, то есть на всем протяжении оси X.\n",
    "\n",
    "Пробелы по оси X покажут ошибки заполнения значений, а визуальные паттерны будут говорить о характере заполнения датасета."
   ]
  },
  {
   "cell_type": "code",
   "execution_count": 33,
   "id": "e6770850",
   "metadata": {},
   "outputs": [
    {
     "data": {
      "image/png": "[encoded data removed]",
      "text/plain": [
       "<Figure size 1000x500 with 4 Axes>"
      ]
     },
     "metadata": {
      "image/png": {
       "height": 478,
       "width": 869
      }
     },
     "output_type": "display_data"
    }
   ],
   "source": [
    "df[numerical_columns+target_column].plot(\n",
    "    lw=0, marker=\"x\", subplots=True, layout=(-1, 2),\n",
    "    figsize=(10, 5), markersize=2, \n",
    "    title = 'Распределение значений численных признаков по объектам'.upper()\n",
    ")\n",
    "plt.legend(loc='upper left')\n",
    "plt.show()"
   ]
  },
  {
   "cell_type": "markdown",
   "id": "ff7fb505",
   "metadata": {},
   "source": [
    "Мы видим, что датасет собран из 4 порций данных, в каждой из которых наблюдаем убвываение абсолютной зведной величины. \n",
    "\n",
    "Значения относительного радиуса группируются в два кластера: около нуля и 1000–2000.\n",
    "\n",
    "\n",
    "Доля звезд с небольшой отсносительной светимостью и небольшим радиусом в датасете намного больше остальных. Мы наблюдаем дисбаланс данных."
   ]
  },
  {
   "cell_type": "markdown",
   "id": "1bf1cb1b",
   "metadata": {},
   "source": [
    "Посмотрим на распределение объектов по категориям."
   ]
  },
  {
   "cell_type": "code",
   "execution_count": 36,
   "id": "51dd34dd",
   "metadata": {},
   "outputs": [
    {
     "data": {
      "text/plain": [
       "2    37\n",
       "4    36\n",
       "0    34\n",
       "1    34\n",
       "3    34\n",
       "5    29\n",
       "Name: star_type, dtype: int64"
      ]
     },
     "execution_count": 36,
     "metadata": {},
     "output_type": "execute_result"
    }
   ],
   "source": [
    "df.star_type.value_counts()"
   ]
  },
  {
   "cell_type": "markdown",
   "id": "5fb334d5",
   "metadata": {},
   "source": [
    "По типам звезд объекты распределены равномерно."
   ]
  },
  {
   "cell_type": "code",
   "execution_count": 37,
   "id": "b67c898c",
   "metadata": {},
   "outputs": [
    {
     "data": {
      "text/plain": [
       "Red                   94\n",
       "Blue                  48\n",
       "Blue-white            19\n",
       "Blue White            10\n",
       "yellow-white           8\n",
       "White                  6\n",
       "Blue white             3\n",
       "Yellowish White        3\n",
       "yellowish              2\n",
       "Orange                 2\n",
       "white                  2\n",
       "White-Yellow           1\n",
       "Whitish                1\n",
       "Blue white             1\n",
       "Blue                   1\n",
       "Yellowish              1\n",
       "Blue-White             1\n",
       "Pale yellow orange     1\n",
       "Name: star_color, dtype: int64"
      ]
     },
     "execution_count": 37,
     "metadata": {},
     "output_type": "execute_result"
    }
   ],
   "source": [
    "df.star_color.value_counts()"
   ]
  },
  {
   "cell_type": "markdown",
   "id": "11c835e1",
   "metadata": {},
   "source": [
    "Тут мы видим большое количество дубликтов в названиях категорий. Оъекты распределены неравномерно."
   ]
  },
  {
   "cell_type": "markdown",
   "id": "7669004b",
   "metadata": {},
   "source": [
    "#### Выводы"
   ]
  },
  {
   "cell_type": "markdown",
   "id": "c4a8471d",
   "metadata": {},
   "source": [
    "В данных нет дубликатов и пропусков. \n",
    "\n",
    "Значения признаков относительный радиус и относительная светимости имют большой разброс. Мы видим много объектов с маленькими значениями и несколько объектов с очень большими значениями.\n",
    "\n",
    "В категориальном признаке цвет звезды мы видим неявные дубли в значениях.  "
   ]
  },
  {
   "cell_type": "markdown",
   "id": "af1b0925",
   "metadata": {},
   "source": [
    "### Содержание данных"
   ]
  },
  {
   "cell_type": "markdown",
   "id": "78c8ee93",
   "metadata": {},
   "source": [
    "#### Распределение значений"
   ]
  },
  {
   "cell_type": "code",
   "execution_count": null,
   "id": "e8d3e1b7",
   "metadata": {},
   "outputs": [],
   "source": []
  },
  {
   "cell_type": "markdown",
   "id": "2da16894",
   "metadata": {},
   "source": [
    "#### Взаимосвязь численных признаков"
   ]
  },
  {
   "cell_type": "code",
   "execution_count": null,
   "id": "9471474c",
   "metadata": {},
   "outputs": [],
   "source": []
  },
  {
   "cell_type": "markdown",
   "id": "f1bf5346",
   "metadata": {},
   "source": [
    "#### Анализ мультиколинеарности"
   ]
  },
  {
   "cell_type": "markdown",
   "id": "ee2f98fe",
   "metadata": {},
   "source": [
    "- https://www.geeksforgeeks.org/detecting-multicollinearity-with-vif-python/\n",
    "- https://etav.github.io/python/vif_factor_python.html\n",
    "- https://towardsdatascience.com/how-to-remove-multicollinearity-in-dataset-using-pca-4b4561c28d0b"
   ]
  },
  {
   "cell_type": "code",
   "execution_count": null,
   "id": "f3fc16d4",
   "metadata": {},
   "outputs": [],
   "source": []
  },
  {
   "cell_type": "markdown",
   "id": "d6c7c61e",
   "metadata": {},
   "source": [
    "### Выводы"
   ]
  },
  {
   "cell_type": "markdown",
   "id": "79ae7d3b",
   "metadata": {},
   "source": []
  },
  {
   "cell_type": "markdown",
   "id": "459a8e5c",
   "metadata": {},
   "source": [
    "## Подготовка данных"
   ]
  },
  {
   "cell_type": "markdown",
   "id": "ab33bc90",
   "metadata": {},
   "source": [
    "## Построение baseline модели"
   ]
  },
  {
   "cell_type": "markdown",
   "id": "67d9fee6",
   "metadata": {},
   "source": [
    "## Улучшение модели"
   ]
  },
  {
   "cell_type": "markdown",
   "id": "a517ec96",
   "metadata": {},
   "source": [
    "## Выводы"
   ]
  },
  {
   "cell_type": "markdown",
   "id": "7e69aa07",
   "metadata": {},
   "source": []
  }
 ],
 "metadata": {
  "kernelspec": {
   "display_name": "Python 3 (ipykernel)",
   "language": "python",
   "name": "python3"
  },
  "language_info": {
   "codemirror_mode": {
    "name": "ipython",
    "version": 3
   },
   "file_extension": ".py",
   "mimetype": "text/x-python",
   "name": "python",
   "nbconvert_exporter": "python",
   "pygments_lexer": "ipython3",
   "version": "3.9.7"
  },
  "toc": {
   "base_numbering": 1,
   "nav_menu": {},
   "number_sections": true,
   "sideBar": true,
   "skip_h1_title": true,
   "title_cell": "Table of Contents",
   "title_sidebar": "Contents",
   "toc_cell": false,
   "toc_position": {
    "height": "calc(100% - 180px)",
    "left": "10px",
    "top": "150px",
    "width": "275.59375px"
   },
   "toc_section_display": true,
   "toc_window_display": true
  }
 },
 "nbformat": 4,
 "nbformat_minor": 5
}
